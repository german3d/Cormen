{
 "cells": [
  {
   "cell_type": "markdown",
   "metadata": {},
   "source": [
    "Sorting algorithms:  \n",
    "- insertion sort\n",
    "- selection sort\n",
    "- bubble sort\n",
    "- merge sort\n",
    "\n",
    "Binary search:  \n",
    "- iterative\n",
    "- recursive"
   ]
  },
  {
   "cell_type": "code",
   "execution_count": 1,
   "metadata": {
    "ExecuteTime": {
     "end_time": "2019-09-25T18:50:48.109217Z",
     "start_time": "2019-09-25T18:50:48.023259Z"
    },
    "collapsed": true
   },
   "outputs": [],
   "source": [
    "def insertion_sort(A):\n",
    "    # Time complexity: O(n^2)\n",
    "    for j in range(1,len(A)):\n",
    "        key = A[j]\n",
    "        i = j - 1\n",
    "        while i >= 0 and A[i] > key:\n",
    "            A[i+1] = A[i]\n",
    "            i = i - 1            \n",
    "        A[i+1] = key"
   ]
  },
  {
   "cell_type": "code",
   "execution_count": 2,
   "metadata": {
    "ExecuteTime": {
     "end_time": "2019-09-25T18:50:48.183171Z",
     "start_time": "2019-09-25T18:50:48.111395Z"
    }
   },
   "outputs": [
    {
     "name": "stdout",
     "output_type": "stream",
     "text": [
      "[5, 6, 2, 8, 10, 2]\n",
      "[2, 2, 5, 6, 8, 10]\n"
     ]
    }
   ],
   "source": [
    "A = [5,6,2,8,10,2]\n",
    "print(A)\n",
    "\n",
    "insertion_sort(A)\n",
    "print(A)"
   ]
  },
  {
   "cell_type": "code",
   "execution_count": 3,
   "metadata": {
    "ExecuteTime": {
     "end_time": "2019-09-25T18:50:48.188899Z",
     "start_time": "2019-09-25T18:50:48.185519Z"
    },
    "collapsed": true
   },
   "outputs": [],
   "source": [
    "def selection_sort(A):\n",
    "    # Time complexity: O(n^2)\n",
    "    for i in range(len(A)-1):\n",
    "        min_idx = i\n",
    "        for j in range(i+1,len(A)):\n",
    "            if A[j] < A[min_idx]:\n",
    "                min_idx = j\n",
    "        A[i], A[min_idx] = A[min_idx], A[i]"
   ]
  },
  {
   "cell_type": "code",
   "execution_count": 4,
   "metadata": {
    "ExecuteTime": {
     "end_time": "2019-09-25T18:50:48.270995Z",
     "start_time": "2019-09-25T18:50:48.190794Z"
    }
   },
   "outputs": [
    {
     "name": "stdout",
     "output_type": "stream",
     "text": [
      "[5, 6, 2, 8, 10, 2]\n",
      "[2, 2, 5, 6, 8, 10]\n"
     ]
    }
   ],
   "source": [
    "A = [5,6,2,8,10,2]\n",
    "print(A)\n",
    "\n",
    "selection_sort(A)\n",
    "print(A)"
   ]
  },
  {
   "cell_type": "code",
   "execution_count": 5,
   "metadata": {
    "ExecuteTime": {
     "end_time": "2019-09-25T18:50:48.276195Z",
     "start_time": "2019-09-25T18:50:48.273215Z"
    },
    "collapsed": true
   },
   "outputs": [],
   "source": [
    "def bubble_sort(A):\n",
    "    # Time complexity: O(n^2)\n",
    "    for i in range(len(A)-1):\n",
    "        for j in range(len(A)-1):\n",
    "            if A[j] > A[j+1]:\n",
    "                A[j], A[j+1] = A[j+1], A[j]"
   ]
  },
  {
   "cell_type": "code",
   "execution_count": 6,
   "metadata": {
    "ExecuteTime": {
     "end_time": "2019-09-25T18:50:48.281967Z",
     "start_time": "2019-09-25T18:50:48.278179Z"
    }
   },
   "outputs": [
    {
     "name": "stdout",
     "output_type": "stream",
     "text": [
      "[5, 6, 2, 8, 10, 2]\n",
      "[2, 2, 5, 6, 8, 10]\n"
     ]
    }
   ],
   "source": [
    "A = [5,6,2,8,10,2]\n",
    "print(A)\n",
    "\n",
    "bubble_sort(A)\n",
    "print(A)"
   ]
  },
  {
   "cell_type": "code",
   "execution_count": 7,
   "metadata": {
    "ExecuteTime": {
     "end_time": "2019-09-25T18:50:48.288458Z",
     "start_time": "2019-09-25T18:50:48.283920Z"
    },
    "scrolled": true
   },
   "outputs": [],
   "source": [
    "def merge(A, p, q, r):\n",
    "    L = A[p:q]\n",
    "    R = A[q:r]\n",
    "    L.append(float(\"inf\"))\n",
    "    R.append(float(\"inf\"))\n",
    "    i = 0\n",
    "    j = 0\n",
    "    for k in range(p,r):\n",
    "        if L[i] <= R[j]:\n",
    "            A[k] = L[i]\n",
    "            i+=1\n",
    "        else:\n",
    "            A[k] = R[j]\n",
    "            j+=1    \n",
    "\n",
    "def merge_sort(A, p, r):\n",
    "    # Time complexity: O(nlog(n))\n",
    "    if r - p > 1:\n",
    "        q = (p + r) // 2\n",
    "        merge_sort(A, p, q)\n",
    "        merge_sort(A, q, r)\n",
    "        merge(A, p, q, r)"
   ]
  },
  {
   "cell_type": "code",
   "execution_count": 8,
   "metadata": {
    "ExecuteTime": {
     "end_time": "2019-09-25T18:50:48.298353Z",
     "start_time": "2019-09-25T18:50:48.291697Z"
    }
   },
   "outputs": [
    {
     "name": "stdout",
     "output_type": "stream",
     "text": [
      "[5, 6, 2, 8, 10, 2]\n",
      "[2, 2, 5, 6, 8, 10]\n"
     ]
    }
   ],
   "source": [
    "A = [5,6,2,8,10,2]\n",
    "print(A)\n",
    "\n",
    "merge_sort(A, 0, len(A))\n",
    "print(A)"
   ]
  },
  {
   "cell_type": "code",
   "execution_count": 9,
   "metadata": {
    "ExecuteTime": {
     "end_time": "2019-09-25T18:50:48.309368Z",
     "start_time": "2019-09-25T18:50:48.300364Z"
    },
    "collapsed": true
   },
   "outputs": [],
   "source": [
    "def binary_search_iterative(A, v, low, high):\n",
    "    # Time complexity: O(log(n))\n",
    "    while low <= high:\n",
    "        mid = (low + high) // 2\n",
    "        if A[mid] == v:\n",
    "            return mid\n",
    "        elif v < A[mid]:\n",
    "            high = mid - 1\n",
    "        else:\n",
    "            low = mid + 1\n",
    "    return float(\"nan\")\n",
    "\n",
    "\n",
    "def binary_search_recursive(A, v, low, high):\n",
    "    # Time complexity: O(log(n))\n",
    "    if low > high:\n",
    "        return float(\"nan\")\n",
    "    mid = (low + high) // 2\n",
    "    if A[mid] == v:\n",
    "        return mid\n",
    "    elif v < A[mid]:\n",
    "        return binary_search_recursive(A, v, low, mid-1)\n",
    "    return binary_search_recursive(A, v, mid+1, high)"
   ]
  },
  {
   "cell_type": "code",
   "execution_count": 10,
   "metadata": {
    "ExecuteTime": {
     "end_time": "2019-09-25T18:50:48.335643Z",
     "start_time": "2019-09-25T18:50:48.318178Z"
    }
   },
   "outputs": [
    {
     "data": {
      "text/plain": [
       "1"
      ]
     },
     "execution_count": 10,
     "metadata": {},
     "output_type": "execute_result"
    }
   ],
   "source": [
    "A = [1,2,5,8,9,20,22,25]\n",
    "binary_search_iterative(A, v=2, low=0, high=len(A)-1)"
   ]
  },
  {
   "cell_type": "code",
   "execution_count": 11,
   "metadata": {
    "ExecuteTime": {
     "end_time": "2019-09-25T18:50:48.349870Z",
     "start_time": "2019-09-25T18:50:48.338334Z"
    }
   },
   "outputs": [
    {
     "data": {
      "text/plain": [
       "1"
      ]
     },
     "execution_count": 11,
     "metadata": {},
     "output_type": "execute_result"
    }
   ],
   "source": [
    "A = [1,2,5,8,9,20,22,25]\n",
    "binary_search_recursive(A, v=2, low=0, high=len(A)-1)"
   ]
  }
 ],
 "metadata": {
  "hide_input": false,
  "kernelspec": {
   "display_name": "Python 3",
   "language": "python",
   "name": "python3"
  },
  "language_info": {
   "codemirror_mode": {
    "name": "ipython",
    "version": 3
   },
   "file_extension": ".py",
   "mimetype": "text/x-python",
   "name": "python",
   "nbconvert_exporter": "python",
   "pygments_lexer": "ipython3",
   "version": "3.6.4"
  },
  "toc": {
   "base_numbering": 1,
   "nav_menu": {},
   "number_sections": true,
   "sideBar": true,
   "skip_h1_title": false,
   "title_cell": "Table of Contents",
   "title_sidebar": "Contents",
   "toc_cell": false,
   "toc_position": {},
   "toc_section_display": true,
   "toc_window_display": false
  }
 },
 "nbformat": 4,
 "nbformat_minor": 2
}
